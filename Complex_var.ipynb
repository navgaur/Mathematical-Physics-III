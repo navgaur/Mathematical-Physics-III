{
 "cells": [
  {
   "cell_type": "markdown",
   "id": "921c8f82-03a9-4490-9dfc-2d918662ce5b",
   "metadata": {},
   "source": [
    "# **Complex Variables** "
   ]
  },
  {
   "cell_type": "code",
   "execution_count": 2,
   "id": "668fba77-6c9f-4bf0-9f7b-610e1322d539",
   "metadata": {},
   "outputs": [],
   "source": [
    "z = 1 + 2j"
   ]
  },
  {
   "cell_type": "code",
   "execution_count": 2,
   "id": "db24f59e-e244-46c9-adb3-d2071f9e3d5d",
   "metadata": {},
   "outputs": [
    {
     "data": {
      "text/plain": [
       "complex"
      ]
     },
     "execution_count": 2,
     "metadata": {},
     "output_type": "execute_result"
    }
   ],
   "source": [
    "type(z) "
   ]
  },
  {
   "cell_type": "code",
   "execution_count": 3,
   "id": "c7482aba-478e-4108-a0b2-7ca3b8c038de",
   "metadata": {},
   "outputs": [
    {
     "name": "stdout",
     "output_type": "stream",
     "text": [
      "(2+3j)\n"
     ]
    }
   ],
   "source": [
    "z1 = complex(2,3)\n",
    "print(z1) "
   ]
  },
  {
   "cell_type": "code",
   "execution_count": 6,
   "id": "d84cbeec-62e7-4219-8ea9-e5737f64fc06",
   "metadata": {},
   "outputs": [
    {
     "name": "stdout",
     "output_type": "stream",
     "text": [
      "1.0 2.0 (1-2j) 2.23606797749979\n"
     ]
    }
   ],
   "source": [
    "print(z.real, z.imag, z.conjugate(),abs(z)) "
   ]
  },
  {
   "cell_type": "code",
   "execution_count": 5,
   "id": "58630340-7d55-4e3f-b953-262c0acb7178",
   "metadata": {},
   "outputs": [
    {
     "name": "stdout",
     "output_type": "stream",
     "text": [
      "(-3+4j)\n"
     ]
    }
   ],
   "source": [
    "print(pow(z,2)) "
   ]
  },
  {
   "cell_type": "code",
   "execution_count": 7,
   "id": "eb03a772-045d-4a24-bd95-d03285d9fec8",
   "metadata": {},
   "outputs": [
    {
     "data": {
      "image/png": "[encoded data removed]",
      "text/plain": [
       "<Figure size 432x288 with 1 Axes>"
      ]
     },
     "metadata": {
      "needs_background": "light"
     },
     "output_type": "display_data"
    }
   ],
   "source": [
    "import matplotlib.pyplot as plt\n",
    "\n",
    "data = [1+1j, 1+2j, -1+2j, 3+1j, 2+1j]\n",
    "\n",
    "x = [t1.real for t1 in data]\n",
    "y = [t1.imag for t1 in data]\n",
    "\n",
    "plt.scatter(x,y)\n",
    "plt.xlabel(\"Real\")\n",
    "plt.ylabel(\"Imaginary\") \n",
    "plt.show() "
   ]
  },
  {
   "cell_type": "code",
   "execution_count": 10,
   "id": "02ee9018-0e4d-4396-ae82-f16b5a141930",
   "metadata": {},
   "outputs": [
    {
     "name": "stdout",
     "output_type": "stream",
     "text": [
      "(1.4142135623730951, 0.7853981633974483)\n"
     ]
    }
   ],
   "source": [
    "import cmath \n",
    "z2 = 1+1j \n",
    "p1 = cmath.polar(z2) \n",
    "print(p1) \n"
   ]
  },
  {
   "cell_type": "code",
   "execution_count": null,
   "id": "14790e17-6e3b-40a9-b51f-e3548bafebc2",
   "metadata": {},
   "outputs": [],
   "source": []
  }
 ],
 "metadata": {
  "kernelspec": {
   "display_name": "Python 3 (ipykernel)",
   "language": "python",
   "name": "python3"
  },
  "language_info": {
   "codemirror_mode": {
    "name": "ipython",
    "version": 3
   },
   "file_extension": ".py",
   "mimetype": "text/x-python",
   "name": "python",
   "nbconvert_exporter": "python",
   "pygments_lexer": "ipython3",
   "version": "3.10.12"
  }
 },
 "nbformat": 4,
 "nbformat_minor": 5
}
