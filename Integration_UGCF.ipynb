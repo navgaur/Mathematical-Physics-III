{
  "nbformat": 4,
  "nbformat_minor": 0,
  "metadata": {
    "colab": {
      "provenance": [],
      "authorship_tag": "ABX9TyNqJ4bPAs7MS4IdevvN8Efz",
      "include_colab_link": true
    },
    "kernelspec": {
      "name": "python3",
      "display_name": "Python 3"
    },
    "language_info": {
      "name": "python"
    }
  },
  "cells": [
    {
      "cell_type": "markdown",
      "metadata": {
        "id": "view-in-github",
        "colab_type": "text"
      },
      "source": [
        "<a href=\"https://colab.research.google.com/github/navgaur/Mathematical-Physics-III/blob/main/Integration_UGCF.ipynb\" target=\"_parent\"><img src=\"https://colab.research.google.com/assets/colab-badge.svg\" alt=\"Open In Colab\"/></a>"
      ]
    },
    {
      "cell_type": "markdown",
      "source": [
        "# **Unit-2 : Integration**\n",
        "\n",
        "\n",
        "Gauss Quadrature Integration Methods: Gauss quadrature methods for integration: Gauss Legendre, Gauss Lagaurre and Gauss Hermite methods.\n",
        "\n",
        "Recommended List of Programs:\n",
        "\n",
        "1. Solving a definite integral by Gauss Legendre quadrature method. Application - representation of a function as a linear combination of Legendre polynomials.\n",
        "2. Solving improper integrals over entire real axis or the positive real axis using Gauss Lagaurre and Gauss Hermite quadrature method. Comparison of results with the ones obtained by contour integration analytically.\n",
        "3. Comparison of convergence of improper integral computed by Newton Cotes and Gauss Quadrature Methods.\n",
        "\n",
        "---"
      ],
      "metadata": {
        "id": "o0xVZgEmclqP"
      }
    },
    {
      "cell_type": "markdown",
      "source": [
        "\n",
        "## **Gauss-Legendre Quadratures (Gauss Quadrature)**\n",
        "\n",
        "Generic Quadrature method works for integration of type\n",
        "$$\n",
        "\\int_a^b f(x) dx\n",
        "$$\n",
        "\n",
        "$$\n",
        "\\int_{-1}^1 f(x) dx = \\sum_{i-1}^n w_i f(x_i)\n",
        "$$\n",
        "\n",
        "where $w_i$ are weights and $x_i$ are quadrature points.\n",
        "\n",
        "###**Syntax**\n",
        "\n",
        "```\n",
        "scipy.integrate.quad(func, a, b, args = (), tol = 1.49e-08, rtol = 1.49e-08, maxiter = 50, vec_func = True, miniter = 1)\n",
        "```\n",
        "\n",
        "Parameters\n",
        "\n",
        "func: This is the Python function or the method that is being integrated.\n",
        "\n",
        "a: This is a float value that specifies the lower limit of integration.\n",
        "\n",
        "args: This is an optional tuple parameter. It specifies the extra arguments to be passed to the func function.\n",
        "\n",
        "tol, rtol: This is an optional float value that defines the absolute tolerance.\n",
        "\n",
        "**Note:** Iteration stops when the error between the last two iterates is less than tol or the relative change is less than rtol. Its default value is 1.49e-08.\n",
        "\n",
        "maxiter: This is an optional int value that specifies the maximum order of the Gaussian quadrature.\n",
        "\n",
        "miniter: This is an optional int value that specifies the minimum order of the Gaussian quadrature.\n",
        "\n",
        "vec_func: This is an optional bool value that specifies True or False, if func handles arrays as arguments. The default value is True.\n"
      ],
      "metadata": {
        "id": "AVBD7xccll1c"
      }
    },
    {
      "cell_type": "code",
      "execution_count": 11,
      "metadata": {
        "colab": {
          "base_uri": "https://localhost:8080/"
        },
        "id": "0guUxx-qckQa",
        "outputId": "d5b25f10-1b89-406a-92f0-e6206d7ff677"
      },
      "outputs": [
        {
          "output_type": "stream",
          "name": "stdout",
          "text": [
            "(0.6666666666666666, 7.401486830834376e-15)\n",
            "[-0.77459667  0.          0.77459667] [0.55555556 0.88888889 0.55555556]\n",
            "0.666666666666667\n"
          ]
        }
      ],
      "source": [
        "from scipy.integrate import quad\n",
        "import numpy as np\n",
        "\n",
        "#f= lambda x: x**2\n",
        "def func(x):\n",
        "  return x**2\n",
        "\n",
        "int_result= quad(func, -1, 1)\n",
        "print(int_result)\n",
        "\n",
        "n = 3\n",
        "nodes, weights = np.polynomial.legendre.leggauss(n)       # Calculation of Weighs and quadrature points\n",
        "result = sum(weights * func(nodes))\n",
        "print(nodes,weights)\n",
        "\n",
        "print(result)"
      ]
    },
    {
      "cell_type": "markdown",
      "source": [
        "## **Gauss-Lagaurre Quadrature**\n",
        "$$\n",
        "\\int_0^\\infty e^{-x} ~ f(x) dx ~~ \\approx ~~ \\sum_{i=1}^n w_i f(x_i)\n",
        "$$\n"
      ],
      "metadata": {
        "id": "5rjmnIOCpJuo"
      }
    },
    {
      "cell_type": "code",
      "source": [
        "from scipy.integrate import quad\n",
        "import numpy as np\n",
        "\n",
        "#f= lambda x: x**2\n",
        "def func(x):\n",
        "  return x**2\n",
        "\n",
        "#int_result= quad(func, -1, 1)\n",
        "#print(int_result)\n",
        "\n",
        "n = 3\n",
        "nodes, weights = np.polynomial.laguerre.laggauss(n)       # Calculation of Weighs and quadrature points\n",
        "result = sum(weights * func(nodes))\n",
        "print(nodes,weights)\n",
        "\n",
        "print(result)"
      ],
      "metadata": {
        "colab": {
          "base_uri": "https://localhost:8080/"
        },
        "id": "htqvF8VAsiOu",
        "outputId": "8a562098-38c0-4749-fc48-6fd6d276598e"
      },
      "execution_count": 14,
      "outputs": [
        {
          "output_type": "stream",
          "name": "stdout",
          "text": [
            "[0.41577456 2.29428036 6.28994508] [0.71109301 0.27851773 0.01038926]\n",
            "2.000000000000001\n"
          ]
        }
      ]
    }
  ]
}