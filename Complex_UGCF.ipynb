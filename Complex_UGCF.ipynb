{
  "nbformat": 4,
  "nbformat_minor": 0,
  "metadata": {
    "colab": {
      "provenance": [],
      "authorship_tag": "ABX9TyOBg6AgUM1gyyNcHg6nPWcC",
      "include_colab_link": true
    },
    "kernelspec": {
      "name": "python3",
      "display_name": "Python 3"
    },
    "language_info": {
      "name": "python"
    }
  },
  "cells": [
    {
      "cell_type": "markdown",
      "metadata": {
        "id": "view-in-github",
        "colab_type": "text"
      },
      "source": [
        "<a href=\"https://colab.research.google.com/github/navgaur/Mathematical-Physics-III/blob/main/Complex_UGCF.ipynb\" target=\"_parent\"><img src=\"https://colab.research.google.com/assets/colab-badge.svg\" alt=\"Open In Colab\"/></a>"
      ]
    },
    {
      "cell_type": "markdown",
      "source": [
        "#**Unit-1 : Complex Numbers**\n",
        "\n",
        "---"
      ],
      "metadata": {
        "id": "OrDePJqlqKqS"
      }
    },
    {
      "cell_type": "markdown",
      "source": [
        "## Handling of Complex Numbers"
      ],
      "metadata": {
        "id": "qp4o2DIcqUne"
      }
    },
    {
      "cell_type": "code",
      "execution_count": null,
      "metadata": {
        "colab": {
          "base_uri": "https://localhost:8080/"
        },
        "id": "g4PllVYWp9Dc",
        "outputId": "16ad2caa-36d8-4056-ea67-56401157568a"
      },
      "outputs": [
        {
          "output_type": "execute_result",
          "data": {
            "text/plain": [
              "complex"
            ]
          },
          "metadata": {},
          "execution_count": 3
        }
      ],
      "source": [
        "z = 1 + 2j\n",
        "type(z)"
      ]
    },
    {
      "cell_type": "code",
      "source": [
        "z1 = complex(2,3)\n",
        "print(z1, z.real, z.imag, z.conjugate(), abs(z))     # Print : Complex no, real, imaginary, complex and magnitude\n",
        "print(pow(z,2))                                      # Print power of z"
      ],
      "metadata": {
        "colab": {
          "base_uri": "https://localhost:8080/"
        },
        "id": "x2LnqkOuqfSR",
        "outputId": "31dde20d-5d91-4a49-aa4c-0a7f70993d6b"
      },
      "execution_count": null,
      "outputs": [
        {
          "output_type": "stream",
          "name": "stdout",
          "text": [
            "(2+3j) 1.0 2.0 (1-2j) 2.23606797749979\n",
            "(-3+4j)\n"
          ]
        }
      ]
    },
    {
      "cell_type": "code",
      "source": [
        "import matplotlib.pyplot as plt\n",
        "\n",
        "data = [1+1j, 1+2j, -1+2j, -1-2j]\n",
        "x = [t1.real for t1 in data]\n",
        "y = [t1.imag for t1 in data]\n",
        "\n",
        "plt.scatter(x,y)\n",
        "plt.xlabel(\"Real\")\n",
        "plt.ylabel(\"Imaginary\")\n",
        "plt.show()"
      ],
      "metadata": {
        "colab": {
          "base_uri": "https://localhost:8080/",
          "height": 449
        },
        "id": "38mAJhz9q1TU",
        "outputId": "cb668f98-62a0-45d6-c8c6-924fe9f75849"
      },
      "execution_count": null,
      "outputs": [
        {
          "output_type": "display_data",
          "data": {
            "text/plain": [
              "<Figure size 640x480 with 1 Axes>"
            ],
            "image/png": "[encoded data removed]"
          },
          "metadata": {}
        }
      ]
    }
  ]
}