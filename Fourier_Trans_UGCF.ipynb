{
  "nbformat": 4,
  "nbformat_minor": 0,
  "metadata": {
    "colab": {
      "provenance": [],
      "authorship_tag": "ABX9TyO0bJITPHUx3ZbqUJyyz5fv",
      "include_colab_link": true
    },
    "kernelspec": {
      "name": "python3",
      "display_name": "Python 3"
    },
    "language_info": {
      "name": "python"
    }
  },
  "cells": [
    {
      "cell_type": "markdown",
      "metadata": {
        "id": "view-in-github",
        "colab_type": "text"
      },
      "source": [
        "<a href=\"https://colab.research.google.com/github/navgaur/Mathematical-Physics-III/blob/main/Fourier_Trans_UGCF.ipynb\" target=\"_parent\"><img src=\"https://colab.research.google.com/assets/colab-badge.svg\" alt=\"Open In Colab\"/></a>"
      ]
    },
    {
      "cell_type": "markdown",
      "source": [
        "#**Fast Fourier Transfer: Discrete Fourier Transform**\n",
        "\n",
        "- Computation of Discrete Fourier Transform (DFT) using complex numbers\n",
        "- Fast Fourier Transform of given function in tabulated or mathematical form e.g. function exp(-x*x)"
      ],
      "metadata": {
        "id": "HI6Fu3u3fj9A"
      }
    },
    {
      "cell_type": "code",
      "execution_count": null,
      "metadata": {
        "id": "ZVObQsNFcwzX"
      },
      "outputs": [],
      "source": []
    }
  ]
}