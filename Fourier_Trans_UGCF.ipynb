{
  "nbformat": 4,
  "nbformat_minor": 0,
  "metadata": {
    "colab": {
      "provenance": [],
      "authorship_tag": "ABX9TyMUSENZYzJXYQe8FEySNJvJ",
      "include_colab_link": true
    },
    "kernelspec": {
      "name": "python3",
      "display_name": "Python 3"
    },
    "language_info": {
      "name": "python"
    }
  },
  "cells": [
    {
      "cell_type": "markdown",
      "metadata": {
        "id": "view-in-github",
        "colab_type": "text"
      },
      "source": [
        "<a href=\"https://colab.research.google.com/github/navgaur/Mathematical-Physics-III/blob/main/Fourier_Trans_UGCF.ipynb\" target=\"_parent\"><img src=\"https://colab.research.google.com/assets/colab-badge.svg\" alt=\"Open In Colab\"/></a>"
      ]
    },
    {
      "cell_type": "markdown",
      "source": [
        "#**Fast Fourier Transform (FFT) : Discrete Fourier Transform (DFT)**\n",
        "\n",
        "- Computation of Discrete Fourier Transform (DFT) using complex numbers\n",
        "- Fast Fourier Transform of given function in tabulated or mathematical form e.g. function exp(-x*x)\n",
        "\n",
        "\n",
        "FFT is the fast implementation of DFT.\n",
        "\n",
        "Represent discrete data points by $(f_0,f_1, \\dots , f_{n-1})$. In Fourier space the same are represented by $(\\hat{f}_0,\\hat{f}_1, \\dots , \\hat{f}_{n-1})$\n",
        "\n",
        "\n",
        "The Transformation can be written as:\n",
        "\n",
        "$$\\hat{f}_k = \\sum_{j=0}^{n-1} ~ f_j ~~ e^{-2 \\pi i ~j k/n}$$\n",
        "$$f_k = \\sum_{j=0}^{n-1} ~ \\hat{f}_j ~~ e^{2 \\pi i ~j k/n}$$\n",
        "\n",
        "Writing ~ $\\omega_n = e^{-2 \\pi i /n}$ one can write above FT in matrix form:\n"
      ],
      "metadata": {
        "id": "HI6Fu3u3fj9A"
      }
    },
    {
      "cell_type": "code",
      "execution_count": null,
      "metadata": {
        "id": "ZVObQsNFcwzX"
      },
      "outputs": [],
      "source": []
    }
  ]
}