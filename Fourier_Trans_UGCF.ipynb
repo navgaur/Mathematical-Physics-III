{
  "nbformat": 4,
  "nbformat_minor": 0,
  "metadata": {
    "colab": {
      "provenance": [],
      "authorship_tag": "ABX9TyMtaJHnht+7VsFKDZtgS38H",
      "include_colab_link": true
    },
    "kernelspec": {
      "name": "python3",
      "display_name": "Python 3"
    },
    "language_info": {
      "name": "python"
    }
  },
  "cells": [
    {
      "cell_type": "markdown",
      "metadata": {
        "id": "view-in-github",
        "colab_type": "text"
      },
      "source": [
        "<a href=\"https://colab.research.google.com/github/navgaur/Mathematical-Physics-III/blob/main/Fourier_Trans_UGCF.ipynb\" target=\"_parent\"><img src=\"https://colab.research.google.com/assets/colab-badge.svg\" alt=\"Open In Colab\"/></a>"
      ]
    },
    {
      "cell_type": "markdown",
      "source": [
        "#**Fast Fourier Transform (FFT) : Discrete Fourier Transform (DFT)**\n",
        "\n",
        "- Computation of Discrete Fourier Transform (DFT) using complex numbers\n",
        "- Fast Fourier Transform of given function in tabulated or mathematical form e.g. function exp(-x*x)\n",
        "\n",
        "\n",
        "FFT is the fast implementation of DFT.\n",
        "\n",
        "Represent discrete (n) data points by $(f_0,f_1, \\dots , f_{n-1})$. In Fourier space the same are represented by $(\\hat{f}_0,\\hat{f}_1, \\dots , \\hat{f}_{n-1})$\n",
        "\n",
        "\n",
        "The Transformation can be written as:\n",
        "\n",
        "$$\\hat{f}_k = \\sum_{j=0}^{n-1} ~ f_j ~~ e^{-2 \\pi i ~j k/n}$$\n",
        "$$f_k = \\sum_{j=0}^{n-1} ~ \\hat{f}_j ~~ e^{2 \\pi i ~j k/n}$$\n",
        "\n",
        "Writing  $~\\omega_n = e^{-2 \\pi i /n}$ one can write above FT in matrix form:\n",
        "$$\n",
        "\\begin{bmatrix}\n",
        "\\hat{f}_1 \\\\\n",
        "\\hat{f}_2 \\\\\n",
        "\\hat{f}_3 \\\\\n",
        "\\dots \\\\\n",
        "\\hat{f}_{n-1}  \n",
        "\\end{bmatrix} ~~=~~\n",
        "\\begin{bmatrix}\n",
        "1 & 1 & 1 & \\dots & 1 \\\\\n",
        "1 & \\omega_n   & \\omega_n^2 & \\dots & \\omega^{n-1} \\\\\n",
        "1 & \\omega_n^2 & \\omega_n^4 & \\dots & \\omega^{2(n-1)} \\\\\n",
        "\\dots \\\\\n",
        "1 & \\omega_n^2 & \\omega_n^4 & \\dots & \\omega^{2(n-1)} \\\\\n",
        "\\end{bmatrix}\n",
        "\\begin{bmatrix}\n",
        "f_1 \\\\\n",
        "f_2 \\\\\n",
        "f_3 \\\\\n",
        "\\dots \\\\\n",
        "f_{n-1}  \n",
        "\\end{bmatrix}\n",
        "$$\n",
        "\n",
        "The number of calculations required for above matrix level calculations are of $\\mathcal{O}(n^2)$. The FFT reduces this to $\\mathcal{O}(n\\ log(n))$ thus substantially reducing number of calculations and hence could possibly be done in real time.\n",
        "\n",
        "---"
      ],
      "metadata": {
        "id": "HI6Fu3u3fj9A"
      }
    },
    {
      "cell_type": "markdown",
      "source": [
        "##**Discrete Fourier Transform (DFT)**\n",
        "\n",
        "Consider the example of signal (given in program below) :\n",
        "$$(1+j, 2 - 1j , 0, -1 + 2j)$$"
      ],
      "metadata": {
        "id": "S8BpqKj6u_M6"
      }
    },
    {
      "cell_type": "code",
      "execution_count": 2,
      "metadata": {
        "id": "ZVObQsNFcwzX",
        "outputId": "e579b35c-b52e-414d-a095-52e01e9f445e",
        "colab": {
          "base_uri": "https://localhost:8080/"
        }
      },
      "outputs": [
        {
          "output_type": "stream",
          "name": "stdout",
          "text": [
            "Input Signal: [(1+1j), (2-1j), 0, (-1+2j)]\n",
            "DFT Result: [(2+2j), (-1.9999999999999996-2.0000000000000004j), (6.661338147750939e-16+2.220446049250313e-16j), (3.999999999999999+4.000000000000001j)]\n"
          ]
        }
      ],
      "source": [
        "import numpy as np\n",
        "\n",
        "def dft(signal):\n",
        "    N = len(signal)\n",
        "    dft_result = []\n",
        "\n",
        "    for k in range(N):\n",
        "        sum_result = 0\n",
        "        for n in range(N):\n",
        "            angle = -2j * np.pi * k * n / N\n",
        "            sum_result += signal[n] * np.exp(angle)\n",
        "        dft_result.append(sum_result)\n",
        "\n",
        "    return dft_result\n",
        "\n",
        "# Define a complex signal\n",
        "signal = [1 + 1j, 2 - 1j, 0, -1 + 2j]\n",
        "\n",
        "# Compute the DFT\n",
        "dft_result = dft(signal)\n",
        "\n",
        "# Display the results\n",
        "print(\"Input Signal:\", signal)\n",
        "print(\"DFT Result:\", dft_result)\n"
      ]
    }
  ]
}